{
  "nbformat": 4,
  "nbformat_minor": 0,
  "metadata": {
    "colab": {
      "provenance": [],
      "authorship_tag": "ABX9TyNKx8+QHKMVKH/Bs8/son5J",
      "include_colab_link": true
    },
    "kernelspec": {
      "name": "python3",
      "display_name": "Python 3"
    },
    "language_info": {
      "name": "python"
    }
  },
  "cells": [
    {
      "cell_type": "markdown",
      "metadata": {
        "id": "view-in-github",
        "colab_type": "text"
      },
      "source": [
        "<a href=\"https://colab.research.google.com/github/Kenuuey/Contests/blob/main/T_bank_Autumn_2025.ipynb\" target=\"_parent\"><img src=\"https://colab.research.google.com/assets/colab-badge.svg\" alt=\"Open In Colab\"/></a>"
      ]
    },
    {
      "cell_type": "markdown",
      "source": [
        "1"
      ],
      "metadata": {
        "id": "JdfWeoJstkQ5"
      }
    },
    {
      "cell_type": "code",
      "source": [
        "# 1\n",
        "def min_number_sorting(n: int) -> int:\n",
        "  digits = list(str(n))\n",
        "  digits.sort()\n",
        "  if digits[0] == '0':\n",
        "    for i in range(1, len(digits)):\n",
        "      if digits[i] != '0':\n",
        "        digits[0], digits[i] = digits[i], digits[0]\n",
        "        break\n",
        "  return int(\"\".join(digits))\n",
        "\n",
        "print(min_number_sorting(1234))\n",
        "print(min_number_sorting(3012))\n",
        "\n",
        "# 2\n",
        "import itertools\n",
        "\n",
        "def min_number_permutations(n: int) -> int:\n",
        "  digits = list(str(n))\n",
        "  min_val = 9999\n",
        "  for perm in itertools.permutations(digits):\n",
        "    if perm[0] != '0':\n",
        "      val = int(\"\".join(perm))\n",
        "      min_val = min(min_val, val)\n",
        "  return min_val\n",
        "\n",
        "print(min_number_permutations(5304))"
      ],
      "metadata": {
        "colab": {
          "base_uri": "https://localhost:8080/"
        },
        "id": "_3LR8edENnLl",
        "outputId": "67a274f0-4873-4005-ca27-9e0a93b98742"
      },
      "execution_count": 101,
      "outputs": [
        {
          "output_type": "stream",
          "name": "stdout",
          "text": [
            "1234\n",
            "1023\n",
            "3045\n"
          ]
        }
      ]
    },
    {
      "cell_type": "markdown",
      "source": [
        "2"
      ],
      "metadata": {
        "id": "UpdsASU0YT3A"
      }
    },
    {
      "cell_type": "code",
      "source": [
        "import sys\n",
        "\n",
        "input = sys.stdin.readline\n",
        "\n",
        "def Solve(arr):\n",
        "    arr.sort()\n",
        "    for i, el in enumerate(arr):\n",
        "        if el > i + 1:\n",
        "            return \"Second\"\n",
        "    cnt = (len(arr) * (len(arr) + 1)) // 2 - sum(arr)\n",
        "    return \"First\" if cnt % 2 else \"Second\"\n",
        "\n",
        "t = int(input())\n",
        "for _ in range(t):\n",
        "    n = int(input())\n",
        "    a = list(map(int, input().split()))\n",
        "    print(Solve(a))"
      ],
      "metadata": {
        "id": "jkJ2h1fbRT_o"
      },
      "execution_count": 98,
      "outputs": []
    },
    {
      "cell_type": "markdown",
      "source": [
        "3"
      ],
      "metadata": {
        "id": "TlGfF8wGt_fu"
      }
    },
    {
      "cell_type": "code",
      "source": [
        "from collections import Counter\n",
        "\n",
        "mod = 10**9 + 7\n",
        "\n",
        "n = int(input())\n",
        "arr = list(map(int, input().split()))\n",
        "\n",
        "cnt = Counter(arr)\n",
        "res = 1\n",
        "for count in cnt.values():\n",
        "    res = (res * (count + 1)) % mod\n",
        "\n",
        "print((res - 1 + mod) % mod)"
      ],
      "metadata": {
        "id": "kG2gNVnfqlM2"
      },
      "execution_count": 100,
      "outputs": []
    },
    {
      "cell_type": "markdown",
      "source": [
        "4"
      ],
      "metadata": {
        "id": "Acbo2RxQC7q1"
      }
    },
    {
      "cell_type": "code",
      "source": [],
      "metadata": {
        "id": "AKia5n2TC8E8"
      },
      "execution_count": null,
      "outputs": []
    },
    {
      "cell_type": "markdown",
      "source": [
        "5"
      ],
      "metadata": {
        "id": "AE95OT6d2MNn"
      }
    },
    {
      "cell_type": "code",
      "source": [
        "n, k = map(int, input().split())\n",
        "\n",
        "mod = 10**9 + 7\n",
        "\n",
        "dp = [0] * (n + 1)\n",
        "dp[0] = 1\n",
        "\n",
        "for v in range(1, n + 1):\n",
        "  for _ in range(k):\n",
        "    for s in range(v, n + 1):\n",
        "        dp[s] = (dp[s] + dp[s - v]) % mod\n",
        "\n",
        "print(dp[n])"
      ],
      "metadata": {
        "colab": {
          "base_uri": "https://localhost:8080/"
        },
        "id": "xUBUFzu60MhC",
        "outputId": "6b589cd6-cc2e-4631-c604-ad97192a3d20"
      },
      "execution_count": 7,
      "outputs": [
        {
          "output_type": "stream",
          "name": "stdout",
          "text": [
            "4 3\n",
            "51\n"
          ]
        }
      ]
    },
    {
      "cell_type": "markdown",
      "source": [
        "6"
      ],
      "metadata": {
        "id": "rp4qkIpXC8kC"
      }
    },
    {
      "cell_type": "code",
      "source": [],
      "metadata": {
        "id": "bsPeApqLBfUu"
      },
      "execution_count": null,
      "outputs": []
    }
  ]
}