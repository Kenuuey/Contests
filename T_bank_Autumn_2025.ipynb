{
  "nbformat": 4,
  "nbformat_minor": 0,
  "metadata": {
    "colab": {
      "provenance": [],
      "authorship_tag": "ABX9TyOMz3UcopT+OWyVmrWaaW27",
      "include_colab_link": true
    },
    "kernelspec": {
      "name": "python3",
      "display_name": "Python 3"
    },
    "language_info": {
      "name": "python"
    }
  },
  "cells": [
    {
      "cell_type": "markdown",
      "metadata": {
        "id": "view-in-github",
        "colab_type": "text"
      },
      "source": [
        "<a href=\"https://colab.research.google.com/github/Kenuuey/Contests/blob/main/T_bank_Autumn_2025.ipynb\" target=\"_parent\"><img src=\"https://colab.research.google.com/assets/colab-badge.svg\" alt=\"Open In Colab\"/></a>"
      ]
    },
    {
      "cell_type": "markdown",
      "source": [
        "1"
      ],
      "metadata": {
        "id": "JdfWeoJstkQ5"
      }
    },
    {
      "cell_type": "code",
      "source": [
        "# 1\n",
        "def min_number_sorting(n: int) -> int:\n",
        "  digits = list(str(n))\n",
        "  digits.sort()\n",
        "  if digits[0] == '0':\n",
        "    for i in range(1, len(digits)):\n",
        "      if digits[i] != '0':\n",
        "        digits[0], digits[i] = digits[i], digits[0]\n",
        "        break\n",
        "  return int(\"\".join(digits))\n",
        "\n",
        "print(min_number_sorting(1234))\n",
        "print(min_number_sorting(3012))\n",
        "\n",
        "# 2\n",
        "import itertools\n",
        "\n",
        "def min_number_permutations(n: int) -> int:\n",
        "  digits = list(str(n))\n",
        "  min_val = 9999\n",
        "  for perm in itertools.permutations(digits):\n",
        "    if perm[0] != '0':\n",
        "      val = int(\"\".join(perm))\n",
        "      min_val = min(min_val, val)\n",
        "  return min_val\n",
        "\n",
        "print(min_number_permutations(5304))"
      ],
      "metadata": {
        "colab": {
          "base_uri": "https://localhost:8080/"
        },
        "id": "_3LR8edENnLl",
        "outputId": "67a274f0-4873-4005-ca27-9e0a93b98742"
      },
      "execution_count": null,
      "outputs": [
        {
          "output_type": "stream",
          "name": "stdout",
          "text": [
            "1234\n",
            "1023\n",
            "3045\n"
          ]
        }
      ]
    },
    {
      "cell_type": "markdown",
      "source": [
        "2"
      ],
      "metadata": {
        "id": "UpdsASU0YT3A"
      }
    },
    {
      "cell_type": "code",
      "source": [
        "import sys\n",
        "\n",
        "input = sys.stdin.readline\n",
        "\n",
        "def Solve(arr):\n",
        "    arr.sort()\n",
        "    for i, el in enumerate(arr):\n",
        "        if el > i + 1:\n",
        "            return \"Second\"\n",
        "    cnt = (len(arr) * (len(arr) + 1)) // 2 - sum(arr)\n",
        "    return \"First\" if cnt % 2 else \"Second\"\n",
        "\n",
        "t = int(input())\n",
        "for _ in range(t):\n",
        "    n = int(input())\n",
        "    a = list(map(int, input().split()))\n",
        "    print(Solve(a))"
      ],
      "metadata": {
        "id": "jkJ2h1fbRT_o"
      },
      "execution_count": null,
      "outputs": []
    },
    {
      "cell_type": "markdown",
      "source": [
        "3"
      ],
      "metadata": {
        "id": "TlGfF8wGt_fu"
      }
    },
    {
      "cell_type": "code",
      "source": [
        "from collections import Counter\n",
        "\n",
        "mod = 10**9 + 7\n",
        "\n",
        "n = int(input())\n",
        "arr = list(map(int, input().split()))\n",
        "\n",
        "cnt = Counter(arr)\n",
        "res = 1\n",
        "for count in cnt.values():\n",
        "    res = (res * (count + 1)) % mod\n",
        "\n",
        "print((res - 1 + mod) % mod)"
      ],
      "metadata": {
        "id": "kG2gNVnfqlM2"
      },
      "execution_count": null,
      "outputs": []
    },
    {
      "cell_type": "markdown",
      "source": [
        "4"
      ],
      "metadata": {
        "id": "Acbo2RxQC7q1"
      }
    },
    {
      "cell_type": "code",
      "source": [
        "import sys\n",
        "\n",
        "def main():\n",
        "    input = sys.stdin.readline\n",
        "    n = int(input().strip())\n",
        "    l = [0]*(n+1)\n",
        "    r = [0]*(n+1)\n",
        "    a = [0]*(n+1)\n",
        "    for i in range(1, n+1):\n",
        "        parts = input().split()\n",
        "        li, ri, ai = map(int, parts)\n",
        "        l[i] = li\n",
        "        r[i] = ri\n",
        "        a[i] = ai\n",
        "\n",
        "    L = [0]*(n+1)\n",
        "    L[1] = 0\n",
        "    for i in range(2, n+1):\n",
        "        L[i] = min(l[i], a[i-1] + L[i-1])\n",
        "\n",
        "    R = [0]*(n+1)\n",
        "    R[n] = 0\n",
        "    for i in range(n-1, 0, -1):\n",
        "        R[i] = min(r[i], a[i+1] + R[i+1])\n",
        "\n",
        "    ans = 0\n",
        "    for i in range(1, n+1):\n",
        "        total = a[i] + L[i] + R[i]\n",
        "        if total > ans:\n",
        "            ans = total\n",
        "\n",
        "    print(ans)\n",
        "\n",
        "if __name__ == \"__main__\":\n",
        "    main()"
      ],
      "metadata": {
        "id": "AKia5n2TC8E8"
      },
      "execution_count": null,
      "outputs": []
    },
    {
      "cell_type": "markdown",
      "source": [
        "5"
      ],
      "metadata": {
        "id": "AE95OT6d2MNn"
      }
    },
    {
      "cell_type": "code",
      "source": [
        "n, k = map(int, input().split())\n",
        "\n",
        "mod = 10**9 + 7\n",
        "\n",
        "dp = [0] * (n + 1)\n",
        "dp[0] = 1\n",
        "\n",
        "for v in range(1, n + 1):\n",
        "  for _ in range(k):\n",
        "    for s in range(v, n + 1):\n",
        "        dp[s] = (dp[s] + dp[s - v]) % mod\n",
        "\n",
        "print(dp[n])"
      ],
      "metadata": {
        "colab": {
          "base_uri": "https://localhost:8080/"
        },
        "id": "xUBUFzu60MhC",
        "outputId": "e2e25bea-84e6-487d-a330-0b6fa9b815e8"
      },
      "execution_count": null,
      "outputs": [
        {
          "output_type": "stream",
          "name": "stdout",
          "text": [
            "3 2\n",
            "10\n"
          ]
        }
      ]
    },
    {
      "cell_type": "markdown",
      "source": [
        "6"
      ],
      "metadata": {
        "id": "rp4qkIpXC8kC"
      }
    },
    {
      "cell_type": "code",
      "source": [
        "import sys\n",
        "sys.setrecursionlimit(1_000_000)\n",
        "\n",
        "def solve():\n",
        "    input = sys.stdin.readline\n",
        "\n",
        "    n, m = map(int, input().split())\n",
        "    a = [0]*m\n",
        "    b = [0]*m\n",
        "    g = [[] for _ in range(n)]\n",
        "    for i in range(m):\n",
        "        u, v = map(int, input().split())\n",
        "        u -= 1; v -= 1\n",
        "        a[i] = u; b[i] = v\n",
        "        g[u].append((v, i))\n",
        "        g[v].append((u, i))\n",
        "\n",
        "    used_edge = [False]*m\n",
        "    vis = [False]*n\n",
        "    depth = [-1]*n\n",
        "    out_par = [0]*n\n",
        "    dir_u = [0]*m; dir_v = [0]*m\n",
        "\n",
        "    def orient(u, v, eid):\n",
        "        dir_u[eid] = u\n",
        "        dir_v[eid] = v\n",
        "        out_par[u] ^= 1\n",
        "\n",
        "    def dfs(v, d=0):\n",
        "        vis[v] = True\n",
        "        depth[v] = d\n",
        "        for to, eid in g[v]:\n",
        "            if used_edge[eid]:\n",
        "                continue\n",
        "            used_edge[eid] = True\n",
        "            if not vis[to]:\n",
        "                dfs(to, d+1)\n",
        "                if out_par[to] == 1:\n",
        "                    dir_u[eid] = to\n",
        "                    dir_v[eid] = v\n",
        "                    out_par[to] ^= 1\n",
        "                else:\n",
        "                    dir_u[eid] = v\n",
        "                    dir_v[eid] = to\n",
        "                    out_par[v] ^= 1\n",
        "            else:\n",
        "                if depth[to] < depth[v]:\n",
        "                    orient(v, to, eid)\n",
        "                else:\n",
        "                    orient(v, to, eid)\n",
        "\n",
        "    possible = True\n",
        "    for v in range(n):\n",
        "        if not vis[v]:\n",
        "            dfs(v)\n",
        "            if out_par[v] % 2 == 1:\n",
        "                possible = False\n",
        "                break\n",
        "\n",
        "    if not possible:\n",
        "        print(-1)\n",
        "    else:\n",
        "        out_lines = []\n",
        "        for i in range(m):\n",
        "            out_lines.append(f\"{dir_u[i]+1} {dir_v[i]+1}\")\n",
        "        print(\"\\n\".join(out_lines))\n",
        "\n",
        "if __name__ == \"__main__\":\n",
        "    solve()"
      ],
      "metadata": {
        "id": "bsPeApqLBfUu"
      },
      "execution_count": null,
      "outputs": []
    }
  ]
}